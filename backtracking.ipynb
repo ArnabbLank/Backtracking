{
  "nbformat": 4,
  "nbformat_minor": 0,
  "metadata": {
    "colab": {
      "name": "backtracking.ipynb",
      "provenance": [],
      "collapsed_sections": []
    },
    "kernelspec": {
      "name": "python3",
      "display_name": "Python 3"
    }
  },
  "cells": [
    {
      "cell_type": "code",
      "metadata": {
        "id": "-z1Nxk6tqaJS"
      },
      "source": [
        "## Knights Tour \r\n",
        "\r\n",
        "import sys\r\n",
        "sys.setrecursionlimit(5000)\r\n",
        "def initialboard(row , col):\r\n",
        "    board = []\r\n",
        "    for i in range(row):\r\n",
        "        l = []\r\n",
        "        for j in range(col):\r\n",
        "            l.append(0)\r\n",
        "        board.append(l)\r\n",
        "    return(board)\r\n",
        "def free(board , row , col , x , y):\r\n",
        "    if x>=0 and x <row and y>=0 and y<col and board[x][y]==0:\r\n",
        "        return True\r\n",
        "def possible(board , row , col , x , y):\r\n",
        "    movex = [2 , 1 , -1 ,-2 , -2 , -1 , 1 , 2]\r\n",
        "    movey = [1 , 2 , 2 , 1 , -1 , -2 , -2 ,-1]\r\n",
        "    move = []\r\n",
        "    for i in range(8):\r\n",
        "        temp1 = x+movex[i]\r\n",
        "        temp2 = y+movey[i]\r\n",
        "        if free(board,row,col,temp1, temp2) :\r\n",
        "            move.append([temp1,temp2])\r\n",
        "    return (move)\r\n",
        "def solve(board, row, col, x, y, tour):\r\n",
        "    if len(tour) == row*col:\r\n",
        "        return(True)\r\n",
        "    move = possible(board,row,col,x,y)\r\n",
        "    degree = []\r\n",
        "    for k in move:\r\n",
        "        degree.append(len(possible(board,row,col,k[0],k[1])))\r\n",
        "    combined = list(zip(move,degree))\r\n",
        "    w = sorted(combined, key = lambda x : x[1])            \r\n",
        "    for i in range(len(w)):\r\n",
        "        x = w[i][0][0]\r\n",
        "        y = w[i][0][1]\r\n",
        "        if free(board,row,col,x,y):\r\n",
        "            tour.append((x+1,y+1))\r\n",
        "            board[x][y] = 1\r\n",
        "            if (solve(board,row,col,x,y,tour)):\r\n",
        "                return(True)\r\n",
        "            board[x][y] = 0                                         \r\n",
        "            tour.remove((x+1,y+1))\r\n",
        "    return(False)\r\n",
        "\r\n",
        "def knightstour(row,col,startx,starty):\r\n",
        "    board=initialboard(row,col)\r\n",
        "    (x,y) = (startx-1,starty-1)\r\n",
        "    tour=[(startx,starty)]\r\n",
        "    if solve(board,row,col,x,y,tour):\r\n",
        "        return(tour)\r\n",
        "    else:\r\n",
        "        return ([])"
      ],
      "execution_count": null,
      "outputs": []
    },
    {
      "cell_type": "code",
      "metadata": {
        "id": "dXithhbmQ1_N"
      },
      "source": [
        "## Sudoku Solver\r\n",
        "\r\n",
        "def possible(l, row , col , num):\r\n",
        "  for i in range(9):\r\n",
        "    if l[row][i] == num:\r\n",
        "      return False\r\n",
        "  for j in range(9):\r\n",
        "    if l[j][col] == num:\r\n",
        "      return False\r\n",
        "  tx = (row//3)*3\r\n",
        "  ty = (col//3)*3\r\n",
        "  for i in range(3):\r\n",
        "    for j in range(3):\r\n",
        "      if l[tx + i][ty + j] == num:\r\n",
        "        return False\r\n",
        "  return True\r\n",
        "\r\n",
        "def solve(l):\r\n",
        "  for i in range(9):\r\n",
        "    for j in range(9):\r\n",
        "      if l[i][j] == 0:\r\n",
        "        for k in range(1,10):\r\n",
        "          if possible(l,i,j,k):\r\n",
        "            l[i][j] = k\r\n",
        "            solve(l)\r\n",
        "            l[i][j] = 0\r\n",
        "        return\r\n",
        "  for i in l:\r\n",
        "    print(i)"
      ],
      "execution_count": 4,
      "outputs": []
    },
    {
      "cell_type": "code",
      "metadata": {
        "id": "C0wbjX8YXmMU"
      },
      "source": [
        "import time"
      ],
      "execution_count": 6,
      "outputs": []
    },
    {
      "cell_type": "code",
      "metadata": {
        "colab": {
          "base_uri": "https://localhost:8080/"
        },
        "id": "rljfxzY_UYQu",
        "outputId": "075d6cfa-c848-4530-b321-78d084ccfb0b"
      },
      "source": [
        "start = time.time()\r\n",
        "l = [[8,0,0,0,0,0,0,0,0],\r\n",
        "     [0,0,3,6,0,0,0,0,0],\r\n",
        "     [0,7,0,0,9,0,2,0,0],\r\n",
        "     [0,5,0,0,0,7,0,0,0],\r\n",
        "     [0,0,0,0,4,5,7,0,0],\r\n",
        "     [0,0,0,1,0,0,0,3,0],\r\n",
        "     [0,0,1,0,0,0,0,6,8],\r\n",
        "     [0,0,8,5,0,0,0,1,0],\r\n",
        "     [0,9,0,0,0,0,4,0,0]]\r\n",
        "solve(l)\r\n",
        "end = time.time()\r\n",
        "print(end-start)"
      ],
      "execution_count": 8,
      "outputs": [
        {
          "output_type": "stream",
          "text": [
            "[8, 1, 2, 7, 5, 3, 6, 4, 9]\n",
            "[9, 4, 3, 6, 8, 2, 1, 7, 5]\n",
            "[6, 7, 5, 4, 9, 1, 2, 8, 3]\n",
            "[1, 5, 4, 2, 3, 7, 8, 9, 6]\n",
            "[3, 6, 9, 8, 4, 5, 7, 2, 1]\n",
            "[2, 8, 7, 1, 6, 9, 5, 3, 4]\n",
            "[5, 2, 1, 9, 7, 4, 3, 6, 8]\n",
            "[4, 3, 8, 5, 2, 6, 9, 1, 7]\n",
            "[7, 9, 6, 3, 1, 8, 4, 5, 2]\n",
            "33.51189708709717\n"
          ],
          "name": "stdout"
        }
      ]
    }
  ]
}